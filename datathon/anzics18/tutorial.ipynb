{
  "nbformat": 4,
  "nbformat_minor": 0,
  "metadata": {
    "colab": {
      "name": "Datathon Tutorial",
      "provenance": [],
      "include_colab_link": true
    },
    "kernelspec": {
      "name": "python2",
      "display_name": "Python 2"
    }
  },
  "cells": [
    {
      "cell_type": "markdown",
      "metadata": {
        "id": "view-in-github",
        "colab_type": "text"
      },
      "source": [
        "<a href=\"https://colab.research.google.com/github/vksepm/OpenAPI-Specification/blob/main/datathon/anzics18/tutorial.ipynb\" target=\"_parent\"><img src=\"https://colab.research.google.com/assets/colab-badge.svg\" alt=\"Open In Colab\"/></a>"
      ]
    },
    {
      "metadata": {
        "id": "msMUolQYBLgL"
      },
      "cell_type": "markdown",
      "source": [
        "Copyright 2018 Google Inc.\n",
        "\n",
        "Licensed under the Apache License, Version 2.0 (the \"License\");\n",
        "you may not use this file except in compliance with the License.\n",
        "You may obtain a copy of the License at\n",
        "\n",
        "> https://www.apache.org/licenses/LICENSE-2.0\n",
        "\n",
        "Unless required by applicable law or agreed to in writing, software\n",
        "distributed under the License is distributed on an \"AS IS\" BASIS,\n",
        "WITHOUT WARRANTIES OR CONDITIONS OF ANY KIND, either express or implied.\n",
        "See the License for the specific language governing permissions and\n",
        "limitations under the License.\n"
      ]
    },
    {
      "metadata": {
        "id": "xQ5UILzbD25T"
      },
      "cell_type": "markdown",
      "source": [
        "# Datathon Tutorial\n",
        "\n",
        "Welcome to the MIMIC/eICU/ANZICS Datathon! This [Colab](https://colab.research.google.com)-based tutorial will guide you through the working environment for accessing the dataset and get you familiarized with analyzing demo medical data in Google Cloud.\n",
        "\n",
        "## Initial Setup\n",
        "Here are the prerequisites for running all examples in this tutorial\n",
        "\n",
        "* You MUST visit https://mimic.physionet.org/gettingstarted/demo/ and accept the terms and conditions for using MIMIC-III demo data to run the queries in this tutorial.\n",
        "* You should already have had a valid Gmail account registered with the datathon organizers, and have been assigned a team.\n",
        "  * If you do not have a Gmail account, you can create one at http://www.gmail.com. You need to notify [datathon organizers](mailto:sydney-datathon-2018-organizers@googlegroups.com) to register your new account for data access.\n",
        "  * If you are not taking part in a MIMIC datathon, but do have MIMIC-III demo data access already, you may request to join [this Google Group](https://groups.google.com/forum/#!forum/mimic-demo-users) to run queries in this Colab notebook.\n",
        "* To be able to run the queries in this tutorial, you need to create a copy of this Colab notebook by clicking \"File\" -> \"Save a copy in Drive...\" menu.\n",
        "  * You can share your copy with your teammates by clicking on the \"SHARE\" button on the top-right corner of your Colab notebook copy. Everyone with \"Edit\" permission is able to modify the notebook at the same time, so it is a great way for team collaboration.\n",
        "\n",
        "Now that you have done the initial setup, let us start playing with the data. First, you need to run some initialization code. You can run the following cell by clicking on the triangle button when you hover over the `[ ]` space on the top-left corner of the code cell below."
      ]
    },
    {
      "metadata": {
        "id": "ISLUFumhCY2Y"
      },
      "cell_type": "code",
      "source": [
        "# Import libraries\n",
        "import numpy as np\n",
        "import os\n",
        "import pandas as pd\n",
        "import matplotlib.pyplot as plt\n",
        "import matplotlib.patches as patches\n",
        "import matplotlib.path as path\n",
        "import tensorflow as tf\n",
        "\n",
        "# Below imports are used to print out pretty pandas dataframes\n",
        "from IPython.display import display, HTML\n",
        "\n",
        "# Imports for accessing Datathon data using Google BigQuery.\n",
        "from google.colab import auth\n",
        "from google.cloud import bigquery"
      ],
      "execution_count": null,
      "outputs": []
    },
    {
      "metadata": {
        "id": "ReqG66PzECCg"
      },
      "cell_type": "markdown",
      "source": [
        "Before running any queries using BigQuery, you need to first authenticate yourself by running the following cell. If you are running it for the first time, it will ask you to follow a link to log in using your Gmail account, and accept the data access requests to your profile. Once this is done, it will generate a string of verification code, which you should paste back to the cell below and press enter."
      ]
    },
    {
      "metadata": {
        "id": "BFOlLhuTE9OG"
      },
      "cell_type": "code",
      "source": [
        "auth.authenticate_user()"
      ],
      "execution_count": null,
      "outputs": []
    },
    {
      "metadata": {
        "id": "RIEUW9MTE4eP"
      },
      "cell_type": "markdown",
      "source": [
        "## Querying the MIMIC-III Demo Dataset\n",
        "\n",
        "Now we are ready to actually start following the \"Cohort Selection\" exercise adapted from the [MIMIC cohort selection tutorial on GitHub](https://github.com/MIT-LCP/mimic-code/blob/master/tutorials/cohort-selection.ipynb). Because all datasets related to this Datathon are hosted on Google Cloud, there is no need to set up a local database or bring up a local Jupyter instance. Instead, we only need to connect to a BigQuery client with the desired Google Cloud project. The MIMIC-III demo data is hosted on the \"`datathon-datasets`\" project. Let's see what datasets are available in this project. For more information about BigQuery's `Client` object (and much more), please refer to [BigQuery Documentation](https://googlecloudplatform.github.io/google-cloud-python/latest/bigquery/usage.html)."
      ]
    },
    {
      "metadata": {
        "id": "fRAIXRZcG10y"
      },
      "cell_type": "code",
      "source": [
        "client = bigquery.Client(project='datathon-datasets')\n",
        "datasets = client.list_datasets()\n",
        "for dataset in datasets:\n",
        "  did = dataset.dataset_id\n",
        "  print('Dataset \"%s\" has the following tables:' % did)\n",
        "  for table in client.list_tables(client.dataset(did)):\n",
        "    print('    ' + table.table_id)"
      ],
      "execution_count": null,
      "outputs": []
    },
    {
      "metadata": {
        "id": "0qezUBvxH7_6"
      },
      "cell_type": "markdown",
      "source": [
        "Another way to list all BigQuery tables in a Google Cloud Project is to go to the BigQuery site directly, e.g. https://bigquery.cloud.google.com/welcome/datathon-datasets. On the left panel, you will see the `mimic_demo` dataset, under which you will see the table names as above once you click and expand on the link.\n",
        "\n",
        "To view the details of a table, simply click on it (for example the `icustays` table). Then, on the right side of the window, you will have to option to see the [schema](https://bigquery.cloud.google.com/table/datathon-datasets:mimic_demo.icustays?tab=schema), [metadata](https://bigquery.cloud.google.com/table/datathon-datasets:mimic_demo.icustays?tab=details) and [preview of rows](https://bigquery.cloud.google.com/table/datathon-datasets:mimic_demo.icustays?tab=preview) tabs.\n",
        "\n",
        "The data-hosting project `datathon-datasets` has read-only access, and as of May 2018 no longer grants job-running permission. As a result, you need to set a default project that you have BigQuery access to. For this example, we use `datathon-client-00`, but you may need to create your own GCP project if you don't have access to this one."
      ]
    },
    {
      "metadata": {
        "id": "TAnxYsQdWiya"
      },
      "cell_type": "code",
      "source": [
        "#@title Setting default project ID (you may need to create your own) {display-mode:\"both\"}\n",
        "project_id='datathon-client-00' # @param\n",
        "os.environ[\"GOOGLE_CLOUD_PROJECT\"]=project_id"
      ],
      "execution_count": null,
      "outputs": []
    },
    {
      "metadata": {
        "id": "SAEyx1QMWrPk"
      },
      "cell_type": "markdown",
      "source": [
        "Let's now run some queries adapted from [the MIMIC cohort selection tutorial](https://github.com/MIT-LCP/mimic-code/blob/master/tutorials/cohort-selection.ipynb).\n",
        "First, let's preview the `subject_id`, `hadm_id`, and `icustay_id` columns of the `icustays` table."
      ]
    },
    {
      "metadata": {
        "id": "SWurERZzNfeo"
      },
      "cell_type": "code",
      "source": [
        "def run_query(query):\n",
        "  return pd.io.gbq.read_gbq(query, project_id=project_id, verbose=False, configuration={'query':{'useLegacySql': False}})\n",
        "\n",
        "\n",
        "run_query('''\n",
        "SELECT\n",
        "  subject_id,\n",
        "  hadm_id,\n",
        "  icustay_id\n",
        "FROM\n",
        "  `datathon-datasets.mimic_demo.icustays`\n",
        "LIMIT 10\n",
        "''')"
      ],
      "execution_count": null,
      "outputs": []
    },
    {
      "metadata": {
        "id": "B86SfucMQf3C"
      },
      "cell_type": "markdown",
      "source": [
        "The `LIMIT 10` clause in the query is handy for limiting the size of the output frame during query writing for easier viewing, and we can drop this clause once the query is finalized to run over the whole dataset. One thing to note is that even with the `LIMIT` clause, [running a query may still incur a cost, up to the full query without `LIMIT`](https://cloud.google.com/bigquery/docs/best-practices-costs#preview-data), so the best way to preview data in a table is the [preview tab](https://bigquery.cloud.google.com/table/datathon-datasets:mimic_demo.icustays?tab=preview) in the BigQuery interface. Please rest assured though that Google is sponsoring this Datathon event, so there will not be any cost for running queries in the provided Datathon projects during the event.\n",
        "\n",
        "Now, let us try some Google SQL functions. Please consult the reference page at https://cloud.google.com/bigquery/docs/reference/standard-sql/functions-and-operators for all available functions and operators. Here is an example how `TIMESTAMP_DIFF` can be used for finding how many hours patients ICU stay lasted. Notice how the query result is stored and used in a pandas dataframe."
      ]
    },
    {
      "metadata": {
        "id": "pr3gw1XNQqSx"
      },
      "cell_type": "code",
      "source": [
        "df = run_query('''\n",
        "SELECT\n",
        "  subject_id,\n",
        "  hadm_id,\n",
        "  icustay_id,\n",
        "  intime,\n",
        "  outtime,\n",
        "  TIMESTAMP_DIFF(outtime, intime, HOUR) as icu_stay_hours\n",
        "FROM `datathon-datasets.mimic_demo.icustays`\n",
        "LIMIT 10\n",
        "''')\n",
        "df.head()"
      ],
      "execution_count": null,
      "outputs": []
    },
    {
      "metadata": {
        "id": "gtf6jXspOBlt"
      },
      "cell_type": "markdown",
      "source": [
        "Here is the BigQuery query to list some patients whose ICU stay is at least 2 days. Note that you can use `AS` in the `SELECT` clause to rename a field in the output, and you can omit the table prefix if there is no ambiguity."
      ]
    },
    {
      "metadata": {
        "id": "lvN1TW5JOBRz"
      },
      "cell_type": "code",
      "source": [
        "run_query('''\n",
        "WITH co AS (\n",
        "  SELECT\n",
        "    subject_id,\n",
        "    hadm_id,\n",
        "    icustay_id,\n",
        "    TIMESTAMP_DIFF(outtime, intime, DAY) AS icu_length_of_stay\n",
        "  FROM `datathon-datasets.mimic_demo.icustays`\n",
        "  LIMIT 10)\n",
        "SELECT\n",
        "  subject_id,\n",
        "  co.hadm_id AS hadm_ID,\n",
        "  co.icustay_id,\n",
        "  co.icu_length_of_stay\n",
        "FROM co\n",
        "WHERE icu_length_of_stay >= 2\n",
        "''')"
      ],
      "execution_count": null,
      "outputs": []
    },
    {
      "metadata": {
        "id": "wCi6CbrpPz2L"
      },
      "cell_type": "markdown",
      "source": [
        "Now, instead of filtering out ICU stays of length 1 day or less, let's label all the ICU stays with an integer, either 1 for stays of length 2 days or more, or 0 for stays shorter than 2 days. The resulting table is called a \"cohort table\" in the [original MIMIC-III tutorial](https://github.com/MIT-LCP/mimic-code/blob/master/tutorials/cohort-selection.ipynb)."
      ]
    },
    {
      "metadata": {
        "id": "AAL6sbJhQenT"
      },
      "cell_type": "code",
      "source": [
        "run_query('''\n",
        "WITH co AS (\n",
        "  SELECT\n",
        "    subject_id,\n",
        "    hadm_id,\n",
        "    icustay_id,\n",
        "    TIMESTAMP_DIFF(outtime, intime, DAY) AS icu_length_of_stay\n",
        "  FROM `datathon-datasets.mimic_demo.icustays`\n",
        "  LIMIT 10)\n",
        "SELECT\n",
        "  subject_id,\n",
        "  hadm_id,\n",
        "  icustay_id,\n",
        "  icu_length_of_stay,\n",
        "  IF(icu_length_of_stay < 2, 1, 0) AS exclusion_los\n",
        "FROM co\n",
        "ORDER BY icustay_id''')\n"
      ],
      "execution_count": null,
      "outputs": []
    },
    {
      "metadata": {
        "id": "R1h17cUoSbQV"
      },
      "cell_type": "markdown",
      "source": [
        "Let's now try a query that requires table joining: include the patient's age at the time of ICU admittance. This is computed by the date difference in years between the ICU `intime` and the patient's date of birth. The former is available in the `icustays` table, and the latter resides in the `dob` column of the `patients` table."
      ]
    },
    {
      "metadata": {
        "id": "hmC3SUxdSths"
      },
      "cell_type": "code",
      "source": [
        "run_query('''\n",
        "WITH co AS (\n",
        "  SELECT\n",
        "    icu.subject_id,\n",
        "    icu.hadm_id,\n",
        "    icu.icustay_id,\n",
        "    pat.dob,\n",
        "    TIMESTAMP_DIFF(icu.outtime, icu.intime, DAY) AS icu_length_of_stay,\n",
        "    DATE_DIFF(DATE(icu.intime), DATE(pat.dob), YEAR) AS age\n",
        "  FROM `datathon-datasets.mimic_demo.icustays` AS icu\n",
        "  INNER JOIN `datathon-datasets.mimic_demo.patients` AS pat\n",
        "    ON icu.subject_id = pat.subject_id\n",
        "  LIMIT 10)\n",
        "SELECT\n",
        "  subject_id,\n",
        "  hadm_id,\n",
        "  icustay_id,\n",
        "  icu_length_of_stay, co.age,\n",
        "  IF(icu_length_of_stay < 2, 1, 0) AS exclusion_los\n",
        "FROM co\n",
        "''')\n"
      ],
      "execution_count": null,
      "outputs": []
    },
    {
      "metadata": {
        "id": "VJULViGdWQHb"
      },
      "cell_type": "markdown",
      "source": [
        "It is somewhat surprising to see a patient whose age is 300! This raises the question whether the age distribution of all patients is sane. We can verify this by querying the quantiles of patients' ages. Notice that we have removed the `LIMIT 10` clause in the inner query, but the result is only one row, containing an array of 11 ingeter ages."
      ]
    },
    {
      "metadata": {
        "id": "oUhTC1SDVNX1"
      },
      "cell_type": "code",
      "source": [
        "run_query('''\n",
        "WITH co AS (\n",
        "  SELECT\n",
        "    DATE_DIFF(DATE(icu.intime), DATE(pat.dob), YEAR) AS age\n",
        "  FROM `datathon-datasets.mimic_demo.icustays` AS icu\n",
        "  INNER JOIN `datathon-datasets.mimic_demo.patients` AS pat\n",
        "    ON icu.subject_id = pat.subject_id)\n",
        "SELECT\n",
        "  APPROX_QUANTILES(age, 10) AS age_quantiles\n",
        "FROM co\n",
        "''')"
      ],
      "execution_count": null,
      "outputs": []
    },
    {
      "metadata": {
        "id": "otDs_fMJWtPU"
      },
      "cell_type": "markdown",
      "source": [
        "The result says that the minimum age (0th percentile) is 17, the 10th percentile is 49, the 20th percentile is 62, and so on, and 300 is the maximum (100-th percentile). The distribution looks good, and 300 could be an outlier caused by inaccurate data collection."
      ]
    },
    {
      "metadata": {
        "id": "UWwr1o2DXi2B"
      },
      "cell_type": "code",
      "source": [
        "run_query('''\n",
        "SELECT\n",
        "  DATE_DIFF(DATE(icu.intime), DATE(pat.dob), YEAR) AS age\n",
        "FROM `datathon-datasets.mimic_demo.icustays` AS icu\n",
        "INNER JOIN `datathon-datasets.mimic_demo.patients` AS pat\n",
        "  ON icu.subject_id = pat.subject_id\n",
        "ORDER BY age DESC\n",
        "LIMIT 10\n",
        "''')\n"
      ],
      "execution_count": null,
      "outputs": []
    },
    {
      "metadata": {
        "id": "M_4zGhDUX17l"
      },
      "cell_type": "markdown",
      "source": [
        "Indeed, there are 9 cases of 300-year olds patient ICU admittances that look suspicious, but after that, the maximum age of the patients is 89. Actually, the 300 age is intentionally introduced in the MIMIC-III datasets for privacy protection of patients whose age is 90 or beyond: any patient in this age group got their age redacted to 300.\n",
        "\n",
        "Next, let's see how many ICU admissions each patient had."
      ]
    },
    {
      "metadata": {
        "id": "bC2K6aKwY63r"
      },
      "cell_type": "code",
      "source": [
        "run_query('''\n",
        "WITH co AS (\n",
        "  SELECT\n",
        "    icu.subject_id,\n",
        "    icu.hadm_id,\n",
        "    icu.icustay_id,\n",
        "    pat.dob,\n",
        "    TIMESTAMP_DIFF(icu.outtime, icu.intime, DAY) AS icu_length_of_stay,\n",
        "    DATE_DIFF(DATE(icu.intime), DATE(pat.dob), YEAR) AS age,\n",
        "    RANK() OVER (PARTITION BY icu.subject_id ORDER BY icu.intime) AS icustay_id_order\n",
        "  FROM `datathon-datasets.mimic_demo.icustays` AS icu\n",
        "  INNER JOIN `datathon-datasets.mimic_demo.patients` AS pat\n",
        "    ON icu.subject_id = pat.subject_id\n",
        "  ORDER BY hadm_id DESC\n",
        "  LIMIT 10\n",
        "  )\n",
        "SELECT\n",
        "  subject_id,\n",
        "  hadm_id,\n",
        "  icustay_id,\n",
        "  icu_length_of_stay, co.age,\n",
        "  IF(icu_length_of_stay < 2, 1, 0) AS exclusion_los,\n",
        "  icustay_id_order\n",
        "FROM co\n",
        "ORDER BY subject_id, icustay_id_order\n",
        "''')\n"
      ],
      "execution_count": null,
      "outputs": []
    },
    {
      "metadata": {
        "id": "jPCwA7AHaiE6"
      },
      "cell_type": "markdown",
      "source": [
        "In the last column, we see that for some patients (e.g. Subject `40177` and `42281`), there are multiple ICU stays. In research studies, we usually filter out follow-up ICU stays, and only keep the first ICU stay so as to minimize unwanted data correlation. For this purpose, we create an exclusion label column based on icustay_id_order, which becomes handy for filtering needs. This is done by ranking the ICU visits ordered by the admission time in the following query, and `PARTITION BY` ensures that the ranking is within each patient (`subject_id`)."
      ]
    },
    {
      "metadata": {
        "id": "VVPdxcTWagFU"
      },
      "cell_type": "code",
      "source": [
        "run_query('''\n",
        "WITH co AS (\n",
        "  SELECT\n",
        "    icu.subject_id,\n",
        "    icu.hadm_id,\n",
        "    icu.icustay_id,\n",
        "    pat.dob,\n",
        "    TIMESTAMP_DIFF(icu.outtime, icu.intime, DAY) AS icu_length_of_stay,\n",
        "    DATE_DIFF(DATE(icu.intime), DATE(pat.dob), YEAR) AS age,\n",
        "    RANK() OVER (PARTITION BY icu.subject_id ORDER BY icu.intime) AS icustay_id_order\n",
        "  FROM `datathon-datasets.mimic_demo.icustays` AS icu\n",
        "  INNER JOIN `datathon-datasets.mimic_demo.patients` AS pat\n",
        "    ON icu.subject_id = pat.subject_id\n",
        "  ORDER BY hadm_id DESC\n",
        "  LIMIT 10\n",
        "  )\n",
        "SELECT\n",
        "  subject_id,\n",
        "  hadm_id,\n",
        "  icustay_id,\n",
        "  icu_length_of_stay, co.age,\n",
        "  IF(icu_length_of_stay < 2, 1, 0) AS exclusion_los,\n",
        "  icustay_id_order,\n",
        "  IF(icustay_id_order = 1, 0, 1) AS exclusion_first_stay\n",
        "FROM co\n",
        "ORDER BY subject_id, icustay_id_order\n",
        "''')\n"
      ],
      "execution_count": null,
      "outputs": []
    },
    {
      "metadata": {
        "id": "r5cmjGGQcu1I"
      },
      "cell_type": "markdown",
      "source": [
        "Another filter that we often use is the current service that ICU patients are undergoing. This could be done by joining with the [`services`](https://bigquery.cloud.google.com/table/datathon-datasets:mimic_demo.services?tab=schema) table using the `hadm_id` column. We can use the [BigQuery preview tab](https://bigquery.cloud.google.com/table/datathon-datasets:mimic_demo.services?tab=preview) to gain some visual understanding of data in this table as usual. We could also find out the number of each service instances and whether it's a sergical service by running the following query with aggregation function `COUNT DISTINCT`. You can find the service code descriptions at http://mimic.physionet.org/mimictables/services/."
      ]
    },
    {
      "metadata": {
        "id": "U7wvc7wTceLN"
      },
      "cell_type": "code",
      "source": [
        "run_query('''\n",
        "SELECT\n",
        "  curr_service,\n",
        "  IF(curr_service like '%SURG' OR curr_service = 'ORTHO', 1, 0) AS surgical,\n",
        "  COUNT(DISTINCT hadm_id) num_hadm\n",
        "FROM `datathon-datasets.mimic_demo.services`\n",
        "GROUP BY 1, 2\n",
        "ORDER BY 2, 1\n",
        "''')"
      ],
      "execution_count": null,
      "outputs": []
    },
    {
      "metadata": {
        "id": "QbNnRIVmeRvZ"
      },
      "cell_type": "markdown",
      "source": [
        "With this understanding of service types, we are now ready to join the `icustays` table with the `services` table to identify what serives ICU patients are undergoing."
      ]
    },
    {
      "metadata": {
        "id": "YVeU0Irleu3a"
      },
      "cell_type": "code",
      "source": [
        "run_query('''\n",
        "SELECT\n",
        "  icu.hadm_id,\n",
        "  icu.icustay_id,\n",
        "  curr_service,\n",
        "  IF(curr_service like '%SURG' OR curr_service = 'ORTHO', 1, 0) AS surgical\n",
        "FROM `datathon-datasets.mimic_demo.icustays` AS icu\n",
        "LEFT JOIN `datathon-datasets.mimic_demo.services` AS se\n",
        "  ON icu.hadm_id = se.hadm_id\n",
        "ORDER BY icustay_id\n",
        "LIMIT 10\n",
        "''')\n"
      ],
      "execution_count": null,
      "outputs": []
    },
    {
      "metadata": {
        "id": "tJPo-TSZfs-T"
      },
      "cell_type": "markdown",
      "source": [
        "Notice that for a single ICU stay, there may be multiple services. The following query finds the first service from ICU stays from patients, and indicates whether the last service before ICU admission was surgical."
      ]
    },
    {
      "metadata": {
        "id": "1S7R49uhgRu9"
      },
      "cell_type": "code",
      "source": [
        "run_query('''\n",
        "WITH serv AS (\n",
        "  SELECT\n",
        "    icu.hadm_id,\n",
        "    icu.icustay_id,\n",
        "    se.curr_service,\n",
        "    IF(curr_service like '%SURG' OR curr_service = 'ORTHO', 1, 0) AS surgical,\n",
        "    RANK() OVER (PARTITION BY icu.hadm_id ORDER BY se.transfertime DESC) as rank\n",
        "  FROM `datathon-datasets.mimic_demo.icustays` AS icu\n",
        "  LEFT JOIN `datathon-datasets.mimic_demo.services` AS se\n",
        "   ON icu.hadm_id = se.hadm_id\n",
        "  AND se.transfertime < TIMESTAMP_ADD(icu.intime, INTERVAL 12 HOUR)\n",
        "  ORDER BY icustay_id\n",
        "  LIMIT 10)\n",
        "SELECT\n",
        "  hadm_id,\n",
        "  icustay_id,\n",
        "  curr_service,\n",
        "  surgical\n",
        "FROM serv\n",
        "WHERE rank = 1\n",
        "''')"
      ],
      "execution_count": null,
      "outputs": []
    },
    {
      "metadata": {
        "id": "ghFm6KEaiANY"
      },
      "cell_type": "markdown",
      "source": [
        "Finally, we are ready to add this surgical exclusion label to the cohort generation table we had before by joining the two tables. For the convenience of later analysis, we rename some columns, and filter out patients more than 100 years old."
      ]
    },
    {
      "metadata": {
        "id": "VGHtwteoiVkD"
      },
      "cell_type": "code",
      "source": [
        "df = run_query('''\n",
        "WITH co AS (\n",
        "  SELECT\n",
        "    icu.subject_id,\n",
        "    icu.hadm_id,\n",
        "    icu.icustay_id,\n",
        "    pat.dob,\n",
        "    TIMESTAMP_DIFF(icu.outtime, icu.intime, DAY) AS icu_length_of_stay,\n",
        "    DATE_DIFF(DATE(icu.intime), DATE(pat.dob), YEAR) AS age,\n",
        "    RANK() OVER (PARTITION BY icu.subject_id ORDER BY icu.intime) AS icustay_id_order\n",
        "  FROM `datathon-datasets.mimic_demo.icustays` AS icu\n",
        "  INNER JOIN `datathon-datasets.mimic_demo.patients` AS pat\n",
        "    ON icu.subject_id = pat.subject_id\n",
        "  ORDER BY hadm_id DESC),\n",
        "serv AS (\n",
        "  SELECT\n",
        "    icu.hadm_id,\n",
        "    icu.icustay_id,\n",
        "    se.curr_service,\n",
        "    IF(curr_service like '%SURG' OR curr_service = 'ORTHO', 1, 0) AS surgical,\n",
        "    RANK() OVER (PARTITION BY icu.hadm_id ORDER BY se.transfertime DESC) as rank\n",
        "  FROM `datathon-datasets.mimic_demo.icustays` AS icu\n",
        "  LEFT JOIN `datathon-datasets.mimic_demo.services` AS se\n",
        "   ON icu.hadm_id = se.hadm_id\n",
        "  AND se.transfertime < TIMESTAMP_ADD(icu.intime, INTERVAL 12 HOUR)\n",
        "  ORDER BY icustay_id)\n",
        "SELECT\n",
        "  co.subject_id,\n",
        "  co.hadm_id,\n",
        "  co.icustay_id,\n",
        "  co.icu_length_of_stay,\n",
        "  co.age,\n",
        "  IF(co.icu_length_of_stay < 2, 1, 0) AS short_stay,\n",
        "  IF(co.icustay_id_order = 1, 0, 1) AS first_stay,\n",
        "  IF(serv.surgical = 1, 1, 0) AS surgical\n",
        "FROM co\n",
        "LEFT JOIN serv USING (icustay_id, hadm_id)\n",
        "WHERE\n",
        "  serv.rank = 1 AND age < 100\n",
        "ORDER BY subject_id, icustay_id_order\n",
        "''')\n",
        "\n",
        "print 'Number of rows in dataframe: %d' % len(df)\n",
        "df.head()"
      ],
      "execution_count": null,
      "outputs": []
    },
    {
      "metadata": {
        "id": "zZimuvTO5CQM"
      },
      "cell_type": "markdown",
      "source": [
        "The [original MIMIC tutorial](https://github.com/MIT-LCP/mimic-code/blob/master/tutorials/cohort-selection.ipynb), also showed why the `first_careunit` field of the `icustays` table is not always the same as the surgical bit derived from the `services` table. It also demonstrated how the pandas dataframes returned from the BigQuery queries can be further processed in Python for summarization. We will not redo those analyses here, believing that you should reproduce those results easily here with Colab by now.\n",
        "\n",
        "Instead, we will show an example of using [Tensorflow](https://www.tensorflow.org/) ([getting started doc](https://www.tensorflow.org/get_started/)) to build a simple predictor, where we use the patient's age and whether it is the first ICU stay to predict whether the ICU stay will be a short one. With only 127 data points in total, we don't expect to actually build an accurate or useful predictor, but it should serve the purpose of showing how a model can be trained and used using Tensorflow within Colab.\n",
        "\n",
        "First, let us split the 127 data points into a training set with 100 records and a testing set with 27, and examine the distribution of the split sets to make sure that the distribution is similar."
      ]
    },
    {
      "metadata": {
        "id": "1QrkAQkXWHDY"
      },
      "cell_type": "code",
      "source": [
        "data = df[['age', 'first_stay', 'short_stay']]\n",
        "data.reindex(np.random.permutation(data.index))\n",
        "training_df=data.head(100)\n",
        "validation_df=data.tail(27)\n",
        "\n",
        "print \"Training data summary:\"\n",
        "display(training_df.describe())\n",
        "\n",
        "print \"Validation data summary:\"\n",
        "display(validation_df.describe())"
      ],
      "execution_count": null,
      "outputs": []
    },
    {
      "metadata": {
        "id": "nf_HtwLJZiHQ"
      },
      "cell_type": "markdown",
      "source": [
        "And let's quickly check the label distribution for the features."
      ]
    },
    {
      "metadata": {
        "id": "XxclfDP8AEQa"
      },
      "cell_type": "code",
      "source": [
        "display(training_df.groupby(['short_stay', 'first_stay']).count())\n",
        "\n",
        "fig, ax = plt.subplots()\n",
        "shorts = training_df[training_df.short_stay==1].age\n",
        "longs = training_df[training_df.short_stay==0].age\n",
        "colors = ['b', 'g']\n",
        "ax.hist([shorts, longs], bins=10, color=colors, label=['short_stay=1', 'short_stay=0'])\n",
        "ax.set_xlabel('Age')\n",
        "ax.set_ylabel('Number of Patients')\n",
        "plt.legend(loc='upper left')\n",
        "plt.show()"
      ],
      "execution_count": null,
      "outputs": []
    },
    {
      "metadata": {
        "id": "VikeQqTrmh56"
      },
      "cell_type": "markdown",
      "source": [
        "Let's first build a linear regression model to predict the numeric value of \"short_stay\" based on `age` and `first_stay` features. You can tune the parameters on the right-hand side and observe differences in the evaluation result."
      ]
    },
    {
      "metadata": {
        "id": "9fLgs7wlVkHE"
      },
      "cell_type": "code",
      "source": [
        "#@title Linear Regression Parameters {display-mode:\"both\"}\n",
        "BATCH_SIZE = 5 # @param\n",
        "NUM_EPOCHS = 100 # @param\n",
        "\n",
        "first_stay = tf.feature_column.numeric_column('first_stay')\n",
        "age = tf.feature_column.numeric_column('age')\n",
        "\n",
        "# Build linear regressor\n",
        "linear_regressor = tf.estimator.LinearRegressor(feature_columns=[first_stay, age])\n",
        "\n",
        "# Train the Model.\n",
        "model = linear_regressor.train(\n",
        "    input_fn=tf.compat.v1.estimator.inputs.pandas_input_fn(\n",
        "        x=training_df,\n",
        "        y=training_df['short_stay'],\n",
        "        num_epochs=100,\n",
        "        batch_size=BATCH_SIZE,\n",
        "        shuffle=True),\n",
        "    steps=100)\n",
        "\n",
        "# Evaluate the model.\n",
        "eval_result = linear_regressor.evaluate(\n",
        "    input_fn=tf.compat.v1.estimator.inputs.pandas_input_fn(\n",
        "        x=validation_df,\n",
        "        y=validation_df['short_stay'],\n",
        "        batch_size=BATCH_SIZE,\n",
        "        shuffle=False))\n",
        "\n",
        "display(eval_result)"
      ],
      "execution_count": null,
      "outputs": []
    },
    {
      "metadata": {
        "id": "C2hp7kCHnZnw"
      },
      "cell_type": "markdown",
      "source": [
        "Remember that the label `short_stay` is actually categorical, with the value 1 for an ICU stay of 1 day or less and value 0 for stays of length 2 days or more. So a classification model better fits this task. Here we try a deep neural networks model using the `DNNClassifier` estimator. Notice the little changes from the regression code above."
      ]
    },
    {
      "metadata": {
        "id": "taWpf-QciNsN"
      },
      "cell_type": "code",
      "source": [
        "#@title ML Training example {display-mode:\"both\"}\n",
        "BATCH_SIZE = 5        # @param\n",
        "NUM_EPOCHS = 100       # @param\n",
        "HIDDEN_UNITS=[10, 10] # @param\n",
        "\n",
        "# Build linear regressor\n",
        "classifier = tf.estimator.DNNClassifier(\n",
        "    feature_columns=[first_stay, age],\n",
        "    hidden_units=HIDDEN_UNITS)\n",
        "\n",
        "# Train the Model.\n",
        "model = classifier.train(\n",
        "    input_fn=tf.compat.v1.estimator.inputs.pandas_input_fn(\n",
        "        x=training_df,\n",
        "        y=training_df['short_stay'],\n",
        "        num_epochs=100,\n",
        "        batch_size=BATCH_SIZE,\n",
        "        shuffle=True),\n",
        "    steps=100)\n",
        "\n",
        "# Evaluate the model.\n",
        "eval_result = classifier.evaluate(\n",
        "    input_fn=tf.compat.v1.estimator.inputs.pandas_input_fn(\n",
        "        x=validation_df,\n",
        "        y=validation_df['short_stay'],\n",
        "        batch_size=BATCH_SIZE,\n",
        "        shuffle=False))\n",
        "\n",
        "display(eval_result)"
      ],
      "execution_count": null,
      "outputs": []
    },
    {
      "metadata": {
        "id": "Tlavnbk9Qs98"
      },
      "cell_type": "markdown",
      "source": [
        "The ANZICS dataset also has some demo tables that you can explore. For example, in the `APD` and `CCR` tables, we can check the number of elements of certain types among the 100 demo records."
      ]
    },
    {
      "metadata": {
        "id": "GyaiOjlpQ7e6"
      },
      "cell_type": "code",
      "source": [
        "run_query('''\n",
        "SELECT\n",
        "  hospitalclassification AS Type,\n",
        "  COUNT(*) AS NumHospitals\n",
        "FROM `datathon-datasets.anzics_demo.apd`\n",
        "GROUP BY 1\n",
        "ORDER BY 2 DESC\n",
        "''')"
      ],
      "execution_count": null,
      "outputs": []
    },
    {
      "metadata": {
        "id": "wzLaeYMERg33"
      },
      "cell_type": "code",
      "source": [
        "run_query('''\n",
        "SELECT\n",
        "  iculevelname AS ICU_Level,\n",
        "  COUNT(*) AS NumHospitals,\n",
        "  SUM(hospitalbeds) AS NumBeds\n",
        "FROM `datathon-datasets.anzics_demo.ccr`\n",
        "GROUP BY 1\n",
        "ORDER BY 2 DESC\n",
        "''')"
      ],
      "execution_count": null,
      "outputs": []
    },
    {
      "metadata": {
        "id": "jJFAQSei8LpJ"
      },
      "cell_type": "markdown",
      "source": [
        "Congratulations! Now you have finished this datathon tutorial, and ready to explore the real data by querying Google BigQuery. To do so, simply remove the `_demo` suffix in the dataset names.\n",
        "For example, the table `mimic_demo.icustays` becomes `mimic.icustays` when you need the actual MIMIC data. Now, let's do the substitution and, and start the real datathon exploration."
      ]
    },
    {
      "metadata": {
        "id": "9zTyxTS0a4az"
      },
      "cell_type": "code",
      "source": [
        "run_query('''\n",
        "SELECT\n",
        "  COUNT(*) AS num_rows\n",
        "FROM\n",
        "  `datathon-datasets.mimic.icustays`\n",
        "''')"
      ],
      "execution_count": null,
      "outputs": []
    },
    {
      "metadata": {
        "id": "J_z2dH2CZoCv"
      },
      "cell_type": "code",
      "source": [
        "run_query('''\n",
        "SELECT\n",
        "  subject_id,\n",
        "  hadm_id,\n",
        "  icustay_id\n",
        "FROM\n",
        "  `datathon-datasets.mimic.icustays`\n",
        "LIMIT 10\n",
        "''')"
      ],
      "execution_count": null,
      "outputs": []
    },
    {
      "metadata": {
        "id": "6LzjiNrybBHF"
      },
      "cell_type": "markdown",
      "source": [
        "Enjoy!"
      ]
    }
  ]
}